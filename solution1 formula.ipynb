{
 "cells": [
  {
   "cell_type": "code",
   "execution_count": 25,
   "metadata": {},
   "outputs": [
    {
     "name": "stdout",
     "output_type": "stream",
     "text": [
      "Requirement already satisfied: gurobipy in /Library/Frameworks/Python.framework/Versions/3.11/lib/python3.11/site-packages (12.0.0)\n",
      "\n",
      "\u001b[1m[\u001b[0m\u001b[34;49mnotice\u001b[0m\u001b[1;39;49m]\u001b[0m\u001b[39;49m A new release of pip is available: \u001b[0m\u001b[31;49m23.1.2\u001b[0m\u001b[39;49m -> \u001b[0m\u001b[32;49m24.3.1\u001b[0m\n",
      "\u001b[1m[\u001b[0m\u001b[34;49mnotice\u001b[0m\u001b[1;39;49m]\u001b[0m\u001b[39;49m To update, run: \u001b[0m\u001b[32;49mpip3.11 install --upgrade pip\u001b[0m\n",
      "Note: you may need to restart the kernel to use updated packages.\n"
     ]
    }
   ],
   "source": [
    "pip install gurobipy"
   ]
  },
  {
   "cell_type": "code",
   "execution_count": 26,
   "metadata": {},
   "outputs": [
    {
     "name": "stdout",
     "output_type": "stream",
     "text": [
      "Requirement already satisfied: numpy in /Library/Frameworks/Python.framework/Versions/3.11/lib/python3.11/site-packages (2.1.3)\n",
      "Requirement already satisfied: matplotlib in /Library/Frameworks/Python.framework/Versions/3.11/lib/python3.11/site-packages (3.9.2)\n",
      "Requirement already satisfied: contourpy>=1.0.1 in /Library/Frameworks/Python.framework/Versions/3.11/lib/python3.11/site-packages (from matplotlib) (1.3.1)\n",
      "Requirement already satisfied: cycler>=0.10 in /Library/Frameworks/Python.framework/Versions/3.11/lib/python3.11/site-packages (from matplotlib) (0.12.1)\n",
      "Requirement already satisfied: fonttools>=4.22.0 in /Library/Frameworks/Python.framework/Versions/3.11/lib/python3.11/site-packages (from matplotlib) (4.55.0)\n",
      "Requirement already satisfied: kiwisolver>=1.3.1 in /Library/Frameworks/Python.framework/Versions/3.11/lib/python3.11/site-packages (from matplotlib) (1.4.7)\n",
      "Requirement already satisfied: packaging>=20.0 in /Users/grace/Library/Python/3.11/lib/python/site-packages (from matplotlib) (24.2)\n",
      "Requirement already satisfied: pillow>=8 in /Library/Frameworks/Python.framework/Versions/3.11/lib/python3.11/site-packages (from matplotlib) (11.0.0)\n",
      "Requirement already satisfied: pyparsing>=2.3.1 in /Library/Frameworks/Python.framework/Versions/3.11/lib/python3.11/site-packages (from matplotlib) (3.2.0)\n",
      "Requirement already satisfied: python-dateutil>=2.7 in /Users/grace/Library/Python/3.11/lib/python/site-packages (from matplotlib) (2.9.0.post0)\n",
      "Requirement already satisfied: six>=1.5 in /Users/grace/Library/Python/3.11/lib/python/site-packages (from python-dateutil>=2.7->matplotlib) (1.16.0)\n",
      "\n",
      "\u001b[1m[\u001b[0m\u001b[34;49mnotice\u001b[0m\u001b[1;39;49m]\u001b[0m\u001b[39;49m A new release of pip is available: \u001b[0m\u001b[31;49m23.1.2\u001b[0m\u001b[39;49m -> \u001b[0m\u001b[32;49m24.3.1\u001b[0m\n",
      "\u001b[1m[\u001b[0m\u001b[34;49mnotice\u001b[0m\u001b[1;39;49m]\u001b[0m\u001b[39;49m To update, run: \u001b[0m\u001b[32;49mpip3.11 install --upgrade pip\u001b[0m\n",
      "Note: you may need to restart the kernel to use updated packages.\n"
     ]
    }
   ],
   "source": [
    "pip install numpy matplotlib\n"
   ]
  },
  {
   "cell_type": "markdown",
   "metadata": {},
   "source": [
    "### Objective\n",
    "Minimize waiting time, commute time, and travel distances for elderly passengers.\n",
    "\n",
    "### Constraints\n",
    "- **Bus and car capacities**: \n",
    "    - 7 buses (14 seats each)\n",
    "    - 1 car (4 seats)\n",
    "- **Daily passenger range**: \n",
    "    - 85–130 elderly passengers\n",
    "- **Ad hoc requests** from passengers\n",
    "- **Balance work for each drivers**"
   ]
  },
  {
   "cell_type": "code",
   "execution_count": 27,
   "metadata": {},
   "outputs": [],
   "source": [
    "import numpy as np\n",
    "import matplotlib.pyplot as plt"
   ]
  },
  {
   "cell_type": "code",
   "execution_count": 28,
   "metadata": {},
   "outputs": [],
   "source": [
    "rnd = np.random\n",
    "rnd.seed(0)"
   ]
  },
  {
   "cell_type": "code",
   "execution_count": 29,
   "metadata": {},
   "outputs": [],
   "source": [
    "n = 30\n",
    "xc = rnd.rand(n+1)*200\n",
    "yc = rnd.rand(n+1)*100"
   ]
  },
  {
   "cell_type": "code",
   "execution_count": 30,
   "metadata": {},
   "outputs": [
    {
     "data": {
      "text/plain": [
       "<matplotlib.collections.PathCollection at 0x1181da210>"
      ]
     },
     "execution_count": 30,
     "metadata": {},
     "output_type": "execute_result"
    },
    {
     "data": {
      "image/png": "[encoded data removed]",
      "text/plain": [
       "<Figure size 640x480 with 1 Axes>"
      ]
     },
     "metadata": {},
     "output_type": "display_data"
    }
   ],
   "source": [
    "plt.plot(xc[0],yc[0],c='r',marker='s')\n",
    "plt.scatter(xc[1:],yc[1:],c='b')"
   ]
  },
  {
   "cell_type": "code",
   "execution_count": 31,
   "metadata": {},
   "outputs": [],
   "source": [
    "N = [i for i in range(1,n+1)]\n",
    "V = [0] + N\n",
    "A = [(i,j) for i in V for j in V if i!=j]\n",
    "c = {(i,j):np.hypot(xc[i]-xc[j],yc[i]-yc[j]) for i,j in A}\n",
    "Q = 14\n",
    "q = {i:rnd.randint(1,10) for i in N}"
   ]
  },
  {
   "cell_type": "markdown",
   "metadata": {},
   "source": []
  },
  {
   "cell_type": "code",
   "execution_count": null,
   "metadata": {},
   "outputs": [],
   "source": [
    "from gurobipy import Model, GRB, quicksum"
   ]
  },
  {
   "cell_type": "code",
   "execution_count": 33,
   "metadata": {},
   "outputs": [],
   "source": [
    "mdl = Model('CVRP')"
   ]
  },
  {
   "cell_type": "code",
   "execution_count": 34,
   "metadata": {},
   "outputs": [],
   "source": [
    "x = mdl.addVars(A, vtype=GRB.BINARY)\n",
    "# variable clients\n",
    "u = mdl.addVars(N, vtype=GRB.CONTINUOUS)"
   ]
  },
  {
   "cell_type": "code",
   "execution_count": 35,
   "metadata": {},
   "outputs": [],
   "source": [
    "mdl.modelSense = GRB.MINIMIZE\n",
    "mdl.setObjective(quicksum(x[a]*c[a] for a in A))"
   ]
  },
  {
   "cell_type": "code",
   "execution_count": 36,
   "metadata": {},
   "outputs": [],
   "source": [
    "mdl.addConstrs(quicksum(x[i,j] for j in V if j!=i)==1 for i in N);\n",
    "mdl.addConstrs(quicksum(x[i,j] for j in V if i!=j)==1 for i in N);\n",
    "mdl.addConstrs((x[i,j]==1)>>(u[i]+q[i]==u[j]) for i,j in A if i!=0 and j!=0);\n",
    "mdl.addConstrs(u[i]>=q[i] for i in N);\n",
    "mdl.addConstrs(u[i]<=Q for i in N);"
   ]
  },
  {
   "cell_type": "code",
   "execution_count": 37,
   "metadata": {},
   "outputs": [
    {
     "name": "stdout",
     "output_type": "stream",
     "text": [
      "Set parameter MIPGap to value 0.1\n",
      "Set parameter TimeLimit to value 30\n",
      "Gurobi Optimizer version 12.0.0 build v12.0.0rc1 (mac64[arm] - Darwin 23.6.0 23G93)\n",
      "\n",
      "CPU model: Apple M1\n",
      "Thread count: 8 physical cores, 8 logical processors, using up to 8 threads\n",
      "\n",
      "Non-default parameters:\n",
      "TimeLimit  30\n",
      "MIPGap  0.1\n",
      "\n",
      "Optimize a model with 120 rows, 960 columns and 1860 nonzeros\n",
      "Model fingerprint: 0xba036bc9\n",
      "Model has 870 simple general constraints\n",
      "  870 INDICATOR\n",
      "Variable types: 30 continuous, 930 integer (930 binary)\n",
      "Coefficient statistics:\n",
      "  Matrix range     [1e+00, 1e+00]\n",
      "  Objective range  [3e+00, 2e+02]\n",
      "  Bounds range     [1e+00, 1e+00]\n",
      "  RHS range        [1e+00, 1e+01]\n",
      "  GenCon rhs range [1e+00, 8e+00]\n",
      "  GenCon coe range [1e+00, 1e+00]\n",
      "Presolve added 405 rows and 0 columns\n",
      "Presolve removed 0 rows and 571 columns\n",
      "Presolve time: 0.02s\n",
      "Presolved: 525 rows, 389 columns, 2294 nonzeros\n",
      "Variable types: 33 continuous, 356 integer (356 binary)\n",
      "Found heuristic solution: objective 1985.5499222\n",
      "Found heuristic solution: objective 1939.9517730\n",
      "Found heuristic solution: objective 1928.5595123\n",
      "\n",
      "Root relaxation: objective 5.361569e+02, 79 iterations, 0.00 seconds (0.00 work units)\n",
      "\n",
      "    Nodes    |    Current Node    |     Objective Bounds      |     Work\n",
      " Expl Unexpl |  Obj  Depth IntInf | Incumbent    BestBd   Gap | It/Node Time\n",
      "\n",
      "     0     0  536.15685    0   28 1928.55951  536.15685  72.2%     -    0s\n",
      "H    0     0                    1160.0292296  536.15685  53.8%     -    0s\n",
      "H    0     0                     810.9873024  536.15685  33.9%     -    0s\n",
      "H    0     0                     806.8907380  536.15685  33.6%     -    0s\n",
      "H    0     0                     801.4942500  536.15685  33.1%     -    0s\n",
      "H    0     0                     791.6134266  536.15685  32.3%     -    0s\n",
      "H    0     0                     724.9130358  536.15685  26.0%     -    0s\n",
      "H    0     0                     698.1558910  536.15685  23.2%     -    0s\n",
      "     0     0  544.95658    0   37  698.15589  544.95658  21.9%     -    0s\n",
      "     0     0  548.79539    0   33  698.15589  548.79539  21.4%     -    0s\n",
      "     0     0  549.47350    0   33  698.15589  549.47350  21.3%     -    0s\n",
      "     0     0  561.70295    0   36  698.15589  561.70295  19.5%     -    0s\n",
      "H    0     0                     661.6633107  561.89588  15.1%     -    0s\n",
      "     0     0  562.56559    0   28  661.66331  562.56559  15.0%     -    0s\n",
      "H    0     0                     661.3905121  562.94846  14.9%     -    0s\n",
      "     0     0  562.94846    0   31  661.39051  562.94846  14.9%     -    0s\n",
      "     0     0  562.95159    0   34  661.39051  562.95159  14.9%     -    0s\n",
      "H    0     0                     657.1800716  562.95159  14.3%     -    0s\n",
      "H    0     0                     655.2157891  562.95159  14.1%     -    0s\n",
      "     0     0  564.53578    0   28  655.21579  564.53578  13.8%     -    0s\n",
      "     0     0  564.53578    0   29  655.21579  564.53578  13.8%     -    0s\n",
      "     0     0  564.53578    0   16  655.21579  564.53578  13.8%     -    0s\n",
      "     0     0  564.98067    0   21  655.21579  564.98067  13.8%     -    0s\n",
      "     0     0  565.18760    0   24  655.21579  565.18760  13.7%     -    0s\n",
      "     0     0  565.22529    0   27  655.21579  565.22529  13.7%     -    0s\n",
      "     0     0  566.00389    0   24  655.21579  566.00389  13.6%     -    0s\n",
      "     0     0  566.28612    0   24  655.21579  566.28612  13.6%     -    0s\n",
      "     0     0  567.28708    0   28  655.21579  567.28708  13.4%     -    0s\n",
      "     0     0  567.28708    0   28  655.21579  567.28708  13.4%     -    0s\n",
      "     0     0  567.28708    0   28  655.21579  567.28708  13.4%     -    0s\n",
      "     0     0  567.68618    0   28  655.21579  567.68618  13.4%     -    0s\n",
      "     0     0  567.68618    0   32  655.21579  567.68618  13.4%     -    0s\n",
      "     0     0  567.79856    0   32  655.21579  567.79856  13.3%     -    0s\n",
      "     0     0  567.79856    0   33  655.21579  567.79856  13.3%     -    0s\n",
      "     0     0  568.11195    0   33  655.21579  568.11195  13.3%     -    0s\n",
      "     0     0  568.53338    0   32  655.21579  568.53338  13.2%     -    0s\n",
      "     0     0  570.09450    0   35  655.21579  570.09450  13.0%     -    0s\n",
      "     0     0  570.09450    0   35  655.21579  570.09450  13.0%     -    0s\n",
      "     0     0  570.09450    0   35  655.21579  570.09450  13.0%     -    0s\n",
      "     0     0  570.09450    0   35  655.21579  570.09450  13.0%     -    0s\n",
      "     0     0  570.09450    0   35  655.21579  570.09450  13.0%     -    0s\n",
      "     0     0  570.09450    0   35  655.21579  570.09450  13.0%     -    0s\n",
      "     0     0  570.14703    0   34  655.21579  570.14703  13.0%     -    0s\n",
      "     0     0  570.14703    0   26  655.21579  570.14703  13.0%     -    0s\n",
      "     0     0  572.87100    0   28  655.21579  572.87100  12.6%     -    0s\n",
      "     0     0  572.95017    0   30  655.21579  572.95017  12.6%     -    0s\n",
      "     0     0  576.45303    0   35  655.21579  576.45303  12.0%     -    0s\n",
      "     0     0  577.45141    0   31  655.21579  577.45141  11.9%     -    0s\n",
      "     0     0  578.09907    0   29  655.21579  578.09907  11.8%     -    0s\n",
      "     0     0  578.49221    0   29  655.21579  578.49221  11.7%     -    0s\n",
      "     0     0  582.09172    0   29  655.21579  582.09172  11.2%     -    0s\n",
      "     0     0  582.79108    0   30  655.21579  582.79108  11.1%     -    0s\n",
      "     0     0  582.79108    0   42  655.21579  582.79108  11.1%     -    0s\n",
      "     0     0  582.79108    0   39  655.21579  582.79108  11.1%     -    0s\n",
      "     0     0  582.79108    0   38  655.21579  582.79108  11.1%     -    0s\n",
      "\n",
      "Cutting planes:\n",
      "  Learned: 4\n",
      "  Gomory: 2\n",
      "  Cover: 14\n",
      "  Implied bound: 5\n",
      "  Clique: 1\n",
      "  MIR: 14\n",
      "  GUB cover: 4\n",
      "  Zero half: 1\n",
      "  RLT: 1\n",
      "  Relax-and-lift: 4\n",
      "\n",
      "Explored 1 nodes (679 simplex iterations) in 0.22 seconds (0.13 work units)\n",
      "Thread count was 8 (of 8 available processors)\n",
      "\n",
      "Solution count 10: 655.216 657.18 661.391 ... 810.987\n",
      "\n",
      "Optimal solution found (tolerance 1.00e-01)\n",
      "Best objective 6.552157891126e+02, best bound 6.552157891126e+02, gap 0.0000%\n"
     ]
    }
   ],
   "source": [
    "mdl.Params.MIPGap = 0.1\n",
    "mdl.Params.TimeLimit = 30 #seconds\n",
    "mdl.optimize()"
   ]
  },
  {
   "cell_type": "code",
   "execution_count": 39,
   "metadata": {},
   "outputs": [],
   "source": [
    "active_arcs = [a for a in A if x[a].x>0.99]"
   ]
  },
  {
   "cell_type": "code",
   "execution_count": 40,
   "metadata": {},
   "outputs": [
    {
     "data": {
      "text/plain": [
       "<matplotlib.collections.PathCollection at 0x11b9563d0>"
      ]
     },
     "execution_count": 40,
     "metadata": {},
     "output_type": "execute_result"
    },
    {
     "data": {
      "image/png": "[encoded data removed]",
      "text/plain": [
       "<Figure size 640x480 with 1 Axes>"
      ]
     },
     "metadata": {},
     "output_type": "display_data"
    }
   ],
   "source": [
    "for i,j in active_arcs:\n",
    "    plt.plot([xc[i],xc[j]],[yc[i],yc[j]],c='g',zorder=0)\n",
    "plt.plot(xc[0],yc[0],c='r',marker='s')\n",
    "plt.scatter(xc[1:],yc[1:],c='b')"
   ]
  },
  {
   "cell_type": "code",
   "execution_count": null,
   "metadata": {},
   "outputs": [],
   "source": []
  }
 ],
 "metadata": {
  "kernelspec": {
   "display_name": "Python 3",
   "language": "python",
   "name": "python3"
  },
  "language_info": {
   "codemirror_mode": {
    "name": "ipython",
    "version": 3
   },
   "file_extension": ".py",
   "mimetype": "text/x-python",
   "name": "python",
   "nbconvert_exporter": "python",
   "pygments_lexer": "ipython3",
   "version": "3.11.4"
  }
 },
 "nbformat": 4,
 "nbformat_minor": 2
}
