{
 "cells": [
  {
   "cell_type": "code",
   "execution_count": 1,
   "metadata": {},
   "outputs": [
    {
     "name": "stdout",
     "output_type": "stream",
     "text": [
      "Restricted license - for non-production use only - expires 2026-11-23\n",
      "Gurobi Optimizer version 12.0.0 build v12.0.0rc1 (mac64[rosetta2] - Darwin 23.6.0 23G93)\n",
      "\n",
      "CPU model: Apple M1\n",
      "Thread count: 8 physical cores, 8 logical processors, using up to 8 threads\n",
      "\n",
      "Optimize a model with 0 rows, 0 columns and 0 nonzeros\n",
      "Model fingerprint: 0xf9715da1\n",
      "Coefficient statistics:\n",
      "  Matrix range     [0e+00, 0e+00]\n",
      "  Objective range  [0e+00, 0e+00]\n",
      "  Bounds range     [0e+00, 0e+00]\n",
      "  RHS range        [0e+00, 0e+00]\n",
      "Presolve time: 0.01s\n",
      "Presolve: All rows and columns removed\n",
      "Iteration    Objective       Primal Inf.    Dual Inf.      Time\n",
      "       0    0.0000000e+00   0.000000e+00   0.000000e+00      0s\n",
      "\n",
      "Solved in 0 iterations and 0.01 seconds (0.00 work units)\n",
      "Optimal objective  0.000000000e+00\n"
     ]
    }
   ],
   "source": [
    "from gurobipy import Model\n",
    "\n",
    "# Test Gurobi installation\n",
    "model = Model(\"test\")\n",
    "model.optimize()\n"
   ]
  },
  {
   "cell_type": "code",
   "execution_count": 2,
   "metadata": {},
   "outputs": [
    {
     "name": "stdout",
     "output_type": "stream",
     "text": [
      "Set parameter WLSAccessID\n",
      "Set parameter WLSSecret\n",
      "Set parameter LicenseID to value 2585862\n",
      "Academic license 2585862 - for non-commercial use only - registered to ch___@northeastern.edu\n",
      "Gurobi Optimizer version 12.0.0 build v12.0.0rc1 (mac64[rosetta2] - Darwin 23.6.0 23G93)\n",
      "\n",
      "CPU model: Apple M1\n",
      "Thread count: 8 physical cores, 8 logical processors, using up to 8 threads\n",
      "\n",
      "Academic license 2585862 - for non-commercial use only - registered to ch___@northeastern.edu\n",
      "Optimize a model with 0 rows, 0 columns and 0 nonzeros\n",
      "Model fingerprint: 0xf9715da1\n",
      "Coefficient statistics:\n",
      "  Matrix range     [0e+00, 0e+00]\n",
      "  Objective range  [0e+00, 0e+00]\n",
      "  Bounds range     [0e+00, 0e+00]\n",
      "  RHS range        [0e+00, 0e+00]\n",
      "Presolve time: 0.00s\n",
      "Presolve: All rows and columns removed\n",
      "Iteration    Objective       Primal Inf.    Dual Inf.      Time\n",
      "       0    0.0000000e+00   0.000000e+00   0.000000e+00      0s\n",
      "\n",
      "Solved in 0 iterations and 0.01 seconds (0.00 work units)\n",
      "Optimal objective  0.000000000e+00\n"
     ]
    }
   ],
   "source": [
    "import gurobipy as gp\n",
    "\n",
    "options = {\n",
    "    \"WLSACCESSID\": \"dc1ebca6-cb85-4ac2-a146-8d704770ea00\",\n",
    "    \"WLSSECRET\": \"224cf33d-caa0-4b3e-9a5c-7bd4dbeb9da1\",\n",
    "    \"LICENSEID\": 2585862,\n",
    "}\n",
    "with gp.Env(params=options) as env, gp.Model(env=env) as model:\n",
    "    # Formulate problem\n",
    "    model.optimize()"
   ]
  },
  {
   "cell_type": "code",
   "execution_count": 3,
   "metadata": {},
   "outputs": [],
   "source": [
    "import matplotlib.pyplot as plt\n",
    "import folium\n",
    "from folium.plugins import MarkerCluster"
   ]
  },
  {
   "cell_type": "code",
   "execution_count": 5,
   "metadata": {},
   "outputs": [],
   "source": [
    "import pandas as pd\n",
    "import numpy as np\n",
    "from gurobipy import Model, GRB, quicksum\n",
    "\n",
    "# Load passenger data\n",
    "passenger_data = pd.read_csv('testing.csv')\n",
    "\n",
    "# Extract coordinates and IDs\n",
    "n = len(passenger_data)\n",
    "xc = passenger_data['Latitude'].values\n",
    "yc = passenger_data['Longitude'].values\n",
    "ids = passenger_data['PassengerID'].values\n",
    "languages = passenger_data['language'].values  \n",
    "\n",
    "vehicle_languages = [1] * 7 + [0]  # Vehicle language abilities: 1=Chinese, 0=English\n",
    "\n",
    "# Mapping vehicle indices to languages\n",
    "num_vehicles = len(vehicle_languages)\n",
    "vehicle_indices = range(1, num_vehicles + 1)  # Vehicle indices\n",
    "vehicle_languages_map = {vehicle_indices[i]: vehicle_languages[i] for i in range(num_vehicles)}\n",
    "\n",
    "\n",
    "# Define depot coordinates (you can adjust this to a central location)\n",
    "depot_latitude = 42.3527  # Example: Linden Street\n",
    "depot_longitude = -71.1280\n",
    "xc = np.append([depot_latitude], xc)\n",
    "yc = np.append([depot_longitude], yc)\n"
   ]
  },
  {
   "cell_type": "code",
   "execution_count": 6,
   "metadata": {},
   "outputs": [
    {
     "name": "stdout",
     "output_type": "stream",
     "text": [
      "Index(['PassengerID', 'ResidentialPlace', 'Latitude', 'Longitude', 'language'], dtype='object')\n"
     ]
    }
   ],
   "source": [
    "print(passenger_data.columns)\n",
    "\n",
    "## passenger_data['language'] = np.random.randint(0, 2, size=len(passenger_data))\n"
   ]
  },
  {
   "cell_type": "markdown",
   "metadata": {},
   "source": []
  },
  {
   "cell_type": "code",
   "execution_count": 7,
   "metadata": {},
   "outputs": [],
   "source": [
    "# Define vehicle capacities\n",
    "vehicle_capacities = [14] * 7 + [4]\n",
    "num_vehicles = len(vehicle_capacities)\n",
    "Q = max(vehicle_capacities)  # Maximum capacity (used in constraints)\n",
    "\n"
   ]
  },
  {
   "cell_type": "code",
   "execution_count": 8,
   "metadata": {},
   "outputs": [],
   "source": [
    "# Vehicle and client sets\n",
    "N = [i for i in range(1, n+1)]  # Client IDs\n",
    "V = [0] + N                    # Include the depot\n",
    "A = [(i, j) for i in V for j in V if i != j]  # All arcs\n"
   ]
  },
  {
   "cell_type": "code",
   "execution_count": 9,
   "metadata": {},
   "outputs": [],
   "source": [
    "# Costs (distances between nodes)\n",
    "c = {(i, j): np.hypot(xc[i] - xc[j], yc[i] - yc[j]) for i, j in A}\n",
    "\n",
    "# Demand for each passenger\n",
    "q = {i: 1 for i in N}"
   ]
  },
  {
   "cell_type": "code",
   "execution_count": 10,
   "metadata": {},
   "outputs": [],
   "source": [
    "# Optimization Model\n",
    "mdl = Model('CVRP_Language')\n",
    "x = mdl.addVars(A, vtype=GRB.BINARY)  # Decision variable: arc usage\n",
    "u = mdl.addVars(N, vtype=GRB.CONTINUOUS)  # Load of each client\n",
    "mdl.modelSense = GRB.MINIMIZE\n",
    "mdl.setObjective(quicksum(x[a] * c[a] for a in A))"
   ]
  },
  {
   "cell_type": "code",
   "execution_count": 11,
   "metadata": {},
   "outputs": [
    {
     "data": {
      "text/plain": [
       "<gurobi.Constr *Awaiting Model Update*>"
      ]
     },
     "execution_count": 11,
     "metadata": {},
     "output_type": "execute_result"
    }
   ],
   "source": [
    "# Constraints\n",
    "mdl.addConstrs(quicksum(x[i, j] for j in V if j != i) == 1 for i in N)  # Each client is visited once\n",
    "mdl.addConstrs(quicksum(x[j, i] for j in V if j != i) == 1 for i in N)  # Each client is departed from once\n",
    "mdl.addConstrs((x[i, j] == 1) >> (u[i] + q[i] == u[j]) for i, j in A if i != 0 and j != 0)  # Load flow\n",
    "mdl.addConstrs(u[i] >= q[i] for i in N)  # Demand met\n",
    "mdl.addConstrs(u[i] <= Q for i in N)  # Capacity respected\n",
    "mdl.addConstr(quicksum(q[i] for i in N) <= sum(vehicle_capacities))  # Total demand fits capacity"
   ]
  },
  {
   "cell_type": "code",
   "execution_count": 12,
   "metadata": {},
   "outputs": [],
   "source": [
    "# Language constraints\n",
    "for i in N:\n",
    "    passenger_lang = languages[i - 1]  # Passenger language preference (1=Chinese, 0=English)\n",
    "    mdl.addConstr(\n",
    "        quicksum(\n",
    "            x[i, j] for j in V if j != i and j in vehicle_indices and vehicle_languages_map[j] == passenger_lang\n",
    "        ) == 1,\n",
    "        name=f\"Lang_Constraint_Passenger_{i}\"\n",
    "    )\n"
   ]
  },
  {
   "cell_type": "code",
   "execution_count": 13,
   "metadata": {},
   "outputs": [],
   "source": [
    "# Ad Hoc Request Function\n",
    "def handle_ad_hoc_request(ad_hoc_requests, passenger_data):\n",
    "    \"\"\"\n",
    "    Updates the passenger data for ad hoc requests by replacing their residential locations\n",
    "    with their requested destinations.\n",
    "    :param ad_hoc_requests: List of tuples [(PassengerID, latitude, longitude), ...]\n",
    "    :param passenger_data: Existing DataFrame of passengers.\n",
    "    :return: Updated passenger data.\n",
    "    \"\"\"\n",
    "    global xc, yc, ids, n\n",
    "    \n",
    "    for request in ad_hoc_requests:\n",
    "        passenger_id, latitude, longitude = request\n",
    "        \n",
    "        # Check if the PassengerID exists in the data\n",
    "        if passenger_id in passenger_data['PassengerID'].values:\n",
    "            # Update the passenger's destination\n",
    "            passenger_data.loc[passenger_data['PassengerID'] == passenger_id, ['Latitude', 'Longitude']] = latitude, longitude\n",
    "        else:\n",
    "            print(f\"PassengerID {passenger_id} not found!\")"
   ]
  },
  {
   "cell_type": "code",
   "execution_count": 14,
   "metadata": {},
   "outputs": [],
   "source": [
    "# Update coordinates and IDs\n",
    "xc = np.append([depot_latitude], passenger_data['Latitude'].values)\n",
    "yc = np.append([depot_longitude], passenger_data['Longitude'].values)\n",
    "ids = passenger_data['PassengerID'].values\n",
    "n = len(passenger_data) - 1  # Exclude depot\n",
    "\n",
    "\n"
   ]
  },
  {
   "cell_type": "code",
   "execution_count": 15,
   "metadata": {},
   "outputs": [],
   "source": [
    "from folium.plugins import MarkerCluster\n",
    "from folium import DivIcon\n",
    "\n",
    "\n",
    "\n",
    "def visualize_routes(active_arcs, xc, yc, ids, depot_latitude, depot_longitude, passenger_data):\n",
    "    \"\"\"\n",
    "    Visualize the optimized routes using Folium.\n",
    "    :param active_arcs: List of active arcs (routes) from the optimization.\n",
    "    :param xc: Array of x-coordinates (latitudes).\n",
    "    :param yc: Array of y-coordinates (longitudes).\n",
    "    :param ids: List of passenger IDs.\n",
    "    :param depot_latitude: Latitude of the depot.\n",
    "    :param depot_longitude: Longitude of the depot.\n",
    "    \"\"\"\n",
    "    # Create a map centered around the depot\n",
    "    route_map = folium.Map(location=[depot_latitude, depot_longitude], zoom_start=13)\n",
    "\n",
    "    # Add the depot marker\n",
    "    folium.Marker(\n",
    "        location=[depot_latitude, depot_longitude],\n",
    "        popup=\"Depot\",\n",
    "        icon=folium.Icon(color=\"red\", icon=\"info-sign\")\n",
    "    ).add_to(route_map)\n",
    "\n",
    "\n",
    "    # Add a cluster for passenger markers\n",
    "    marker_cluster = MarkerCluster().add_to(route_map)\n",
    "\n",
    "    # Group passengers by location\n",
    "    location_groups = {}\n",
    "    for i in range(1, len(ids)):  # Skip the depot (index 0)\n",
    "        loc = (xc[i], yc[i])\n",
    "        if loc not in location_groups:\n",
    "            location_groups[loc] = []\n",
    "        location_groups[loc].append(ids[i])\n",
    "\n",
    "    # Add markers for each unique location with passenger count on the icon\n",
    "    for loc, passengers in location_groups.items():\n",
    "        passenger_count = len(passengers)\n",
    "        popup_content = f\"Passengers: {', '.join(map(str, passengers))}\"\n",
    "\n",
    "        # Custom icon to show the passenger count\n",
    "        folium.Marker(\n",
    "            location=loc,\n",
    "            popup=popup_content,\n",
    "            icon=DivIcon(\n",
    "                icon_size=(20, 20),\n",
    "                icon_anchor=(10, 10),\n",
    "                html=f'<div style=\"font-size: 12px; color: white; background: blue; '\n",
    "                     f'border-radius: 50%; text-align: center; width: 24px; height: 24px; line-height: 24px;\">'\n",
    "                     f'{passenger_count}</div>'\n",
    "            )\n",
    "        ).add_to(route_map)\n",
    "\n",
    "    # Draw routes\n",
    "    for i, j in active_arcs:\n",
    "        # Determine the vehicle's language (assume `i` represents the vehicle index)\n",
    "        driver_language = vehicle_languages[i]\n",
    "        route_color = \"blue\" if driver_language == 0 else \"green\"  # Blue for English-speaking driver, green otherwise\n",
    "        \n",
    "        folium.PolyLine(\n",
    "            locations=[[xc[i], yc[i]], [xc[j], yc[j]]],\n",
    "            color=route_color,\n",
    "            weight=2.5\n",
    "        ).add_to(marker_cluster)\n",
    "\n",
    "    # Display the map\n",
    "    route_map.save('optimized_routes.html')\n",
    "    print(\"Map saved as 'optimized_routes.html'. Open this file in your browser to view the routes.\")\n",
    "   \n"
   ]
  },
  {
   "cell_type": "code",
   "execution_count": 16,
   "metadata": {},
   "outputs": [
    {
     "name": "stdout",
     "output_type": "stream",
     "text": [
      "Welcome to the Shuttle Scheduling System\n",
      "\n",
      "1. Optimize Schedule\n",
      "2. Add Ad Hoc Request\n",
      "3. Exit\n",
      "Starting optimization...\n",
      "Set parameter TimeLimit to value 20\n",
      "Set parameter MIPGap to value 0.3\n",
      "Set parameter OutputFlag to value 1\n",
      "Gurobi Optimizer version 12.0.0 build v12.0.0rc1 (mac64[rosetta2] - Darwin 23.6.0 23G93)\n",
      "\n",
      "CPU model: Apple M1\n",
      "Thread count: 8 physical cores, 8 logical processors, using up to 8 threads\n",
      "\n",
      "Non-default parameters:\n",
      "TimeLimit  20\n",
      "MIPGap  0.3\n",
      "\n",
      "Optimize a model with 196 rows, 1599 columns and 3356 nonzeros\n",
      "Model fingerprint: 0xb0948a37\n",
      "Model has 1482 simple general constraints\n",
      "  1482 INDICATOR\n",
      "Variable types: 39 continuous, 1560 integer (1560 binary)\n",
      "Coefficient statistics:\n",
      "  Matrix range     [1e+00, 1e+00]\n",
      "  Objective range  [1e-02, 1e-01]\n",
      "  Bounds range     [1e+00, 1e+00]\n",
      "  RHS range        [1e+00, 6e+01]\n",
      "  GenCon rhs range [1e+00, 1e+00]\n",
      "  GenCon coe range [1e+00, 1e+00]\n",
      "Presolve removed 84 rows and 0 columns\n",
      "Presolve time: 0.00s\n",
      "\n",
      "Explored 0 nodes (0 simplex iterations) in 0.01 seconds (0.00 work units)\n",
      "Thread count was 1 (of 8 available processors)\n",
      "\n",
      "Solution count 0\n",
      "\n",
      "Model is infeasible\n",
      "Best objective -, best bound -, gap -\n",
      "Optimization complete.\n",
      "Error: Variables have no solution values. Check the model constraints.\n",
      "\n",
      "1. Optimize Schedule\n",
      "2. Add Ad Hoc Request\n",
      "3. Exit\n",
      "Exiting the system. Goodbye!\n"
     ]
    }
   ],
   "source": [
    "passenger_data = pd.read_csv('testing.csv')\n",
    "\n",
    "# CLI Interface\n",
    "def main():\n",
    "    global passenger_data, mdl\n",
    "    print(\"Welcome to the Shuttle Scheduling System\")\n",
    "    \n",
    "    while True:\n",
    "        print(\"\\n1. Optimize Schedule\")\n",
    "        print(\"2. Add Ad Hoc Request\")\n",
    "        print(\"3. Exit\")\n",
    "        choice = int(input(\"Choose an option: \"))\n",
    "\n",
    "        if choice == 1:\n",
    "            print(\"Starting optimization...\")\n",
    "            mdl.Params.TimeLimit = 20  # Limit optimization to 10 seconds\n",
    "            mdl.Params.MIPGap = 0.3   # Allow solutions within 20% of optimal\n",
    "            mdl.Params.OutputFlag = 1  # Enable solver logs\n",
    "            mdl.optimize()\n",
    "            print(\"Optimization complete.\")\n",
    "\n",
    "            if mdl.status == 2 or mdl.status == 3:\n",
    "                try:\n",
    "                    # Extract active arcs\n",
    "                    active_arcs = [a for a in A if x[a].x > 0.99]  # Check if the variable is part of the solution\n",
    "                    print(f\"Total optimized distance: {mdl.ObjVal}\")\n",
    "\n",
    "                    # Visualize the routes\n",
    "                    visualize_routes(active_arcs, xc, yc, ids, depot_latitude, depot_longitude, passenger_data)\n",
    "                except AttributeError:\n",
    "                    print(\"Error: Variables have no solution values. Check the model constraints.\")\n",
    "            else:\n",
    "                print(\"No optimal or feasible solution found!\")\n",
    "\n",
    "        elif choice == 2:\n",
    "            passenger_id = input(\"Enter PassengerID: \")\n",
    "            latitude = float(input(\"Enter new destination latitude: \"))\n",
    "            longitude = float(input(\"Enter new destination longitude: \"))\n",
    "            passenger_data = handle_ad_hoc_request([(passenger_id, latitude, longitude)], passenger_data)\n",
    "            print(f\"Ad hoc request for {passenger_id} processed successfully!\")\n",
    "\n",
    "            # Update variables and reinitialize the model\n",
    "            xc = np.append([depot_latitude], passenger_data['Latitude'].values)\n",
    "            yc = np.append([depot_longitude], passenger_data['Longitude'].values)\n",
    "            ids = passenger_data['PassengerID'].values\n",
    "            languages = passenger_data['language'].values  # Update the language column\n",
    "            n = len(passenger_data) - 1  # Exclude depot\n",
    "            \n",
    "            mdl = reinitialize_model()\n",
    "            \n",
    "        elif choice == 3:\n",
    "            print(\"Exiting the system. Goodbye!\")\n",
    "            break\n",
    "\n",
    "        else:\n",
    "            print(\"Invalid choice. Please try again.\")\n",
    "\n",
    "\n",
    "main()\n",
    "\n"
   ]
  },
  {
   "cell_type": "code",
   "execution_count": null,
   "metadata": {},
   "outputs": [],
   "source": []
  }
 ],
 "metadata": {
  "kernelspec": {
   "display_name": "base",
   "language": "python",
   "name": "python3"
  },
  "language_info": {
   "codemirror_mode": {
    "name": "ipython",
    "version": 3
   },
   "file_extension": ".py",
   "mimetype": "text/x-python",
   "name": "python",
   "nbconvert_exporter": "python",
   "pygments_lexer": "ipython3",
   "version": "3.11.4"
  }
 },
 "nbformat": 4,
 "nbformat_minor": 2
}
